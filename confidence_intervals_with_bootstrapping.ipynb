{
    "cells": [
        {
            "cell_type": "markdown",
            "metadata": {},
            "source": [
                "## Confidence intervals for system evaluation using the bootstrapping approach\n",
                "\n",
                "This notebook contains the code needed to create confidence intervals with the bootstrapping approach\n",
                "for (almost) any task, dataset or metric. Four things are required to run this code:\n",
                "\n",
                "* **Samples**: an array that can be indexed to select the samples for each bootstrap set. Note that, here, the term sample refers to ``whatever is needed to compute the metric of interest''. This will generally be the system's output (scores or decisions). Yet, for metrics that are simple averages of some per-sample loss, the sample can simply be represented by the per-sample loss (more on this below).\n",
                "* **Labels**: an array that can be indexed to select the labels, or any other information needed to compute the metric, for the samples above.\n",
                "* **Conditions**: an array of integers indicating the conditions of the samples (e.g., the speaker identity). All samples with the same condition will be sampled together when doing bootstrapping.\n",
                "* **Metric**: The metric to be used for assessing performance. A method that takes samples and, when necessary, labels and computes a scalar value. \n",
                "  \n",
                "The metric, samples, and labels can be as simple or as complex as your task requires. The table below shows some examples on how the different inputs may be defined. \n",
                "\n",
                "\n",
                "<center>\n",
                "\n",
                "| Task                         | Metric           | Sample                              | Label             |  Condition        |\n",
                "|------------------------------|------------------|-------------------------------------|-------------------|-------------------|\n",
                "| Emotion classification       | Accuracy         | System's decision                   | Emotion label     | Speaker           |\n",
                "| Emotion classification       | Accuracy         | 0 or 1 (correct/incorrect decision) | -                 | Speaker           |\n",
                "| Speaker verification         | EER              | System's score for trial            | Target/Impostor   | See comment below |\n",
                "| Automatic speech recognition | Av. WER          | Per-sample WER                      | -                 | Speaker           |\n",
                "| Automatic speech recognition | Weighted Av. WER | Per-sample WER                      | Num words         | Speaker           |\n",
                "| Diarization                  | Weighted Av. DER | Per-sample DER                      | Num speech frames | Speaker           |\n",
                "\n",
                "</center>\n",
                "\n",
                "Some notes:\n",
                "\n",
                "* For metrics that are averages of some loss over the samples like the accuracy, or the average WER, the sample can be represented directly by the per-sample loss, the metric is simply the average of the loss over the samples, and the label is not needed.\n",
                "* For the weighted average WER and DER metrics often used for ASR and diarization, where the weights are given by the number of words in each sample or the number of speech frames, respectively, the label field can be used to provide the number of words or speech frames for each sample so that the metric can be computed from the individual WER or DER values and this quantity (see example below).\n",
                "* While for speech tasks the speaker is the most common correlation-inducing factor, other factors may exist, like the recording session (if more than one sample is generated in a session) or the original waveform (if samples are waveform chunks extracted from longer waveforms).\n",
                "* In speaker verification, bootstrapping by condition is harder than for other tasks because both sides in a trial (the enrollment and the test side) have their own condition. The code in this repository cannot handle this particular case. Instead, joint bootstrapping is needed. Please see the code in the [DCA-PLDA github repository](https://github.com/luferrer/DCA-PLDA/blob/master/dca_plda/scores.py) (compute_performance_with_confidence_intervals method) for an example of how to do joint bootstrapping for speaker verification.  \n"
            ]
        },
        {
            "cell_type": "code",
            "execution_count": 1,
            "metadata": {},
            "outputs": [
                {
                    "name": "stdout",
                    "output_type": "stream",
                    "text": [
                        "Collecting git+https://github.com/luferrer/ConfidenceIntervals.git\n",
                        "  Cloning https://github.com/luferrer/ConfidenceIntervals.git to /private/var/folders/yc/gnzvhlcn0g1gb0kjw3nnj4t80000gn/T/pip-req-build-50vmeskc\n",
                        "  Running command git clone --filter=blob:none --quiet https://github.com/luferrer/ConfidenceIntervals.git /private/var/folders/yc/gnzvhlcn0g1gb0kjw3nnj4t80000gn/T/pip-req-build-50vmeskc\n",
                        "  Resolved https://github.com/luferrer/ConfidenceIntervals.git to commit 2b3fcc8af89a5ac617ab2bb8bc5e84675fc44713\n",
                        "  Preparing metadata (setup.py) ... \u001b[?25ldone\n",
                        "\u001b[?25hRequirement already satisfied: scikit-learn in /Users/lferrer/opt/anaconda3/lib/python3.9/site-packages (from confidence-intervals==0.1.0) (1.2.2)\n",
                        "Requirement already satisfied: numpy in /Users/lferrer/opt/anaconda3/lib/python3.9/site-packages (from confidence-intervals==0.1.0) (1.24.1)\n",
                        "Requirement already satisfied: joblib>=1.1.1 in /Users/lferrer/opt/anaconda3/lib/python3.9/site-packages (from scikit-learn->confidence-intervals==0.1.0) (1.3.0)\n",
                        "Requirement already satisfied: threadpoolctl>=2.0.0 in /Users/lferrer/opt/anaconda3/lib/python3.9/site-packages (from scikit-learn->confidence-intervals==0.1.0) (2.2.0)\n",
                        "Requirement already satisfied: scipy>=1.3.2 in /Users/lferrer/opt/anaconda3/lib/python3.9/site-packages (from scikit-learn->confidence-intervals==0.1.0) (1.9.1)\n",
                        "Note: you may need to restart the kernel to use updated packages.\n"
                    ]
                }
            ],
            "source": [
                "pip install git+https://github.com/luferrer/ConfidenceIntervals.git"
            ]
        },
        {
            "cell_type": "code",
            "execution_count": 2,
            "metadata": {
                "colab": {
                    "base_uri": "https://localhost:8080/"
                },
                "id": "3gEIJ0m_bAvI",
                "outputId": "b921aa6c-05d4-4556-bb13-82234f2ea7e9"
            },
            "outputs": [],
            "source": [
                "import numpy as np\n",
                "import sklearn.metrics\n",
                "from confidence_intervals import evaluate_with_conf_int\n",
                "from confidence_intervals.utils import create_data"
            ]
        },
        {
            "cell_type": "code",
            "execution_count": 3,
            "metadata": {},
            "outputs": [],
            "source": [
                "# Create a toy dataset. Here the samples are simply the decisions made by the system.\n",
                "N0 = 200\n",
                "N1 = 200\n",
                "NC = 20\n",
                "decisions, labels, conditions = create_data(N0, N1, NC, scale=1.0)\n",
                "\n",
                "# Percentage for the confidence interval\n",
                "alpha = 5 \n",
                "\n",
                "# Number of bootstrap samples to use (the run time will be proportional to this number). We set it to\n",
                "# 50/alpha to get enough samples in the tails.\n",
                "num_bootstraps = int(50/alpha)\n",
                "\n"
            ]
        },
        {
            "cell_type": "markdown",
            "metadata": {},
            "source": [
                "Below we show the simplest way to obtain both the metric on the complete dataset and the confidence interval, in a single line of code.\n"
            ]
        },
        {
            "cell_type": "code",
            "execution_count": 4,
            "metadata": {},
            "outputs": [
                {
                    "data": {
                        "text/plain": [
                            "(0.855, (0.8218000845180959, 0.8952843516058924))"
                        ]
                    },
                    "execution_count": 4,
                    "metadata": {},
                    "output_type": "execute_result"
                }
            ],
            "source": [
                "metric =  sklearn.metrics.accuracy_score\n",
                "evaluate_with_conf_int(labels, decisions, metric, conditions, num_bootstraps=num_bootstraps, alpha=alpha)\n"
            ]
        },
        {
            "cell_type": "markdown",
            "metadata": {},
            "source": [
                "Alternatively, as mentioned in the introduction, one can compute the accuracy as the average of the 0-1 loss. In this case, we need to set the first argument to None, define the second argument as the 0-1 loss, and the metric as the mean. \n",
                "\n",
                "This same approach can be used for ASR or diarization where the metric is an average of per-sample losses that are not quick to compute. In that case, the samples array should contain the per-sample losses, replacing the 0-1 loss used below. "
            ]
        },
        {
            "cell_type": "code",
            "execution_count": 5,
            "metadata": {},
            "outputs": [
                {
                    "data": {
                        "text/plain": [
                            "(0.855, (0.8218000845180959, 0.8952843516058924))"
                        ]
                    },
                    "execution_count": 5,
                    "metadata": {},
                    "output_type": "execute_result"
                }
            ],
            "source": [
                "samples = decisions == labels\n",
                "evaluate_with_conf_int(None, samples, np.average, conditions, num_bootstraps=num_bootstraps, alpha=alpha)"
            ]
        },
        {
            "cell_type": "markdown",
            "metadata": {},
            "source": [
                "In some cases, the metric is a weighted average of per-sample losses. In that case, the labels array can be used to provide the weight to the metric, which can be defined as below."
            ]
        },
        {
            "cell_type": "code",
            "execution_count": 6,
            "metadata": {},
            "outputs": [
                {
                    "data": {
                        "text/plain": [
                            "(0.855, (0.8218000845180959, 0.8952843516058924))"
                        ]
                    },
                    "execution_count": 6,
                    "metadata": {},
                    "output_type": "execute_result"
                }
            ],
            "source": [
                "samples = decisions == labels\n",
                "\n",
                "# Setting all the weights to 1, the metric is the accuracy, as above. \n",
                "weights = np.ones_like(samples)\n",
                "\n",
                "def metric(weights, samples):\n",
                "    return np.average(samples, weights=weights)\n",
                "\n",
                "evaluate_with_conf_int(weights, samples, metric, conditions, num_bootstraps=num_bootstraps, alpha=alpha)"
            ]
        },
        {
            "cell_type": "markdown",
            "metadata": {},
            "source": [
                "The block below shows the few lines of code needed to run bootstrapping, unwrapping evaluate_with_conf_int. This shows how straightforward the approach is. The only somewhat complex step is inside the get_bootstrap_indices method for the case that involves conditions. \n",
                "\n",
                "You can use this as pseudo-code if, for example, you need to recode bootstrapping in some other language or compute a more involved metric that does not take only samples and labels as input."
            ]
        },
        {
            "cell_type": "code",
            "execution_count": 7,
            "metadata": {},
            "outputs": [
                {
                    "name": "stdout",
                    "output_type": "stream",
                    "text": [
                        "0.855 (0.8218000845180959, 0.8952843516058924)\n"
                    ]
                }
            ],
            "source": [
                "from confidence_intervals import get_bootstrap_indices, get_conf_int\n",
                "\n",
                "metric =  sklearn.metrics.accuracy_score\n",
                "metric_values = []\n",
                "num_samples = len(decisions)\n",
                "for nb in np.arange(num_bootstraps):\n",
                "    indices = get_bootstrap_indices(num_samples, conditions=conditions, random_state=nb)\n",
                "    metric_values.append(metric(labels[indices], decisions[indices]))\n",
                "\n",
                "print(metric(labels, decisions), get_conf_int(metric_values, alpha))\n",
                "\n",
                "\n"
            ]
        },
        {
            "cell_type": "markdown",
            "metadata": {},
            "source": [
                "Below is an example on how to create a bar plot for two systems, with and without using conditions."
            ]
        },
        {
            "cell_type": "code",
            "execution_count": 8,
            "metadata": {},
            "outputs": [
                {
                    "data": {
                        "image/png": "[encoded data removed]",
                        "text/plain": [
                            "<Figure size 300x300 with 1 Axes>"
                        ]
                    },
                    "metadata": {},
                    "output_type": "display_data"
                }
            ],
            "source": [
                "from confidence_intervals.utils import barplot_with_ci\n",
                "metric =  sklearn.metrics.accuracy_score\n",
                "\n",
                "# The create_data method generates the same labels and conditions for all three cases below. \n",
                "# Only the decisions change, simulating three different systems.\n",
                "decisions = {}\n",
                "decisions['sys1'], labels, conditions = create_data(N0, N1, NC, scale=1.0)\n",
                "decisions['sys2'], labels, conditions = create_data(N0, N1, NC, scale=0.5)\n",
                "decisions['sys3'], labels, conditions = create_data(N0, N1, NC, scale=0.3)\n",
                "\n",
                "data = {}\n",
                "for sys, dec in decisions.items():\n",
                "   val_with_cond = evaluate_with_conf_int(labels, dec, metric, conditions, num_bootstraps=num_bootstraps, alpha=alpha)\n",
                "   val_no_cond   = evaluate_with_conf_int(labels, dec, metric, None,       num_bootstraps=num_bootstraps, alpha=alpha)\n",
                "   data[sys] = {'with cond': val_with_cond, 'without cond': val_no_cond}\n",
                "\n",
                "barplot_with_ci(data, figsize=(3,3))\n"
            ]
        },
        {
            "cell_type": "markdown",
            "metadata": {},
            "source": [
                "Finally, we show how to create a confidence interval for comparing the performance between two of the systems above. Since the metric needed for this case is a bit more involved than what the evaluate_with_conf_int method can handle, we use the unwrapped code already shown above.\n",
                "\n",
                "**If the confidence interval does not include the value 0.0, then we can reject the null hypothesis that the two systems have the same performance (see Keller, 2005, cited in the README file).**"
            ]
        },
        {
            "cell_type": "code",
            "execution_count": 18,
            "metadata": {},
            "outputs": [
                {
                    "name": "stdout",
                    "output_type": "stream",
                    "text": [
                        "0.10999999999999999 (-0.04750000000000007, -0.015312500000000052)\n"
                    ]
                }
            ],
            "source": [
                "from confidence_intervals import get_bootstrap_indices, get_conf_int\n",
                "\n",
                "base_metric =  sklearn.metrics.accuracy_score\n",
                "\n",
                "def metric(labels, dec1, dec2):\n",
                "    return base_metric(labels, dec2) - base_metric(labels, dec1)\n",
                "\n",
                "metric_values = []\n",
                "num_samples = len(decisions['sys1'])\n",
                "for nb in np.arange(num_bootstraps):\n",
                "    indices = get_bootstrap_indices(num_samples, conditions=None, random_state=nb)\n",
                "#    indices = get_bootstrap_indices(num_samples, conditions=conditions, random_state=nb)\n",
                "    metric_values.append(metric(labels[indices], decisions['sys3'][indices], decisions['sys2'][indices]))\n",
                "\n",
                "print(metric(labels, decisions['sys1'], decisions['sys2']), get_conf_int(metric_values, alpha))\n"
            ]
        }
    ],
    "metadata": {
        "colab": {
            "collapsed_sections": [],
            "provenance": []
        },
        "kernelspec": {
            "display_name": "Python 3 (ipykernel)",
            "language": "python",
            "name": "python3"
        },
        "language_info": {
            "codemirror_mode": {
                "name": "ipython",
                "version": 3
            },
            "file_extension": ".py",
            "mimetype": "text/x-python",
            "name": "python",
            "nbconvert_exporter": "python",
            "pygments_lexer": "ipython3",
            "version": "3.9.13"
        }
    },
    "nbformat": 4,
    "nbformat_minor": 1
}
