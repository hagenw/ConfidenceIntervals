{
    "cells": [
        {
            "cell_type": "code",
            "execution_count": 1,
            "metadata": {
                "colab": {
                    "base_uri": "https://localhost:8080/"
                },
                "id": "3gEIJ0m_bAvI",
                "outputId": "b921aa6c-05d4-4556-bb13-82234f2ea7e9"
            },
            "outputs": [],
            "source": [
                "import numpy as np\n",
                "import sklearn.metrics\n",
                "from confidence_intervals import evaluate_with_conf_int\n",
                "from confidence_intervals.utils import create_data"
            ]
        },
        {
            "cell_type": "code",
            "execution_count": 2,
            "metadata": {},
            "outputs": [],
            "source": [
                "# Create a toy dataset. Here the samples are simply the decisions made by the system.\n",
                "N0 = 200\n",
                "N1 = 200\n",
                "NC = 20\n",
                "decisions, labels, conditions = create_data(N0, N1, NC, scale=1.0)\n",
                "\n",
                "# Percentage for the confidence interval\n",
                "alpha = 5 \n",
                "\n",
                "# Number of bootstrap samples to use (the run time will be proportional to this number). We set it to\n",
                "# 50/alpha*100 to get enough samples in the tails.\n",
                "num_bootstraps = int(50/alpha*100)\n"
            ]
        },
        {
            "cell_type": "markdown",
            "metadata": {},
            "source": [
                "Below we show the simplest way to obtain both the metric on the complete dataset and the confidence interval, in a single line of code.\n"
            ]
        },
        {
            "cell_type": "code",
            "execution_count": 3,
            "metadata": {},
            "outputs": [
                {
                    "data": {
                        "text/plain": [
                            "(0.855, (0.7938131968651883, 0.9126023142471228))"
                        ]
                    },
                    "execution_count": 3,
                    "metadata": {},
                    "output_type": "execute_result"
                }
            ],
            "source": [
                "metric =  sklearn.metrics.accuracy_score\n",
                "evaluate_with_conf_int(decisions, metric, labels=labels, conditions=conditions, \n",
                "                       num_bootstraps=num_bootstraps, alpha=alpha)\n"
            ]
        },
        {
            "cell_type": "markdown",
            "metadata": {},
            "source": [
                "Alternatively, one can compute the accuracy as the average of the 0-1 loss. In this case, we need to set the labels argument to None, define the samples argument (the first one) as the 0-1 loss, and the metric as the mean. \n",
                "\n",
                "This same approach can be used for ASR or diarization where the metric is an average of per-sample losses that are not quick to compute. In that case, the samples array should contain the per-sample losses, replacing the 0-1 loss used below. "
            ]
        },
        {
            "cell_type": "code",
            "execution_count": 4,
            "metadata": {},
            "outputs": [
                {
                    "data": {
                        "text/plain": [
                            "(0.855, (0.7938131968651883, 0.9126023142471228))"
                        ]
                    },
                    "execution_count": 4,
                    "metadata": {},
                    "output_type": "execute_result"
                }
            ],
            "source": [
                "losses = decisions == labels\n",
                "evaluate_with_conf_int(losses, np.average, labels=None, conditions=conditions, \n",
                "                       num_bootstraps=num_bootstraps, alpha=alpha)"
            ]
        },
        {
            "cell_type": "markdown",
            "metadata": {},
            "source": [
                "In some cases, the metric is a weighted average of per-sample losses. In that case, the labels array can be used to provide the weight to the metric, which can be defined as below."
            ]
        },
        {
            "cell_type": "code",
            "execution_count": 5,
            "metadata": {},
            "outputs": [
                {
                    "data": {
                        "text/plain": [
                            "(0.855, (0.7938131968651883, 0.9126023142471228))"
                        ]
                    },
                    "execution_count": 5,
                    "metadata": {},
                    "output_type": "execute_result"
                }
            ],
            "source": [
                "losses = decisions == labels\n",
                "\n",
                "# Setting all the weights to 1, the metric is the accuracy, as above. \n",
                "weights = np.ones_like(losses)\n",
                "\n",
                "def metric(weights, losses):\n",
                "    return np.average(losses, weights=weights)\n",
                "\n",
                "evaluate_with_conf_int(losses, metric, labels=weights, conditions=conditions, \n",
                "                       num_bootstraps=num_bootstraps, alpha=alpha)"
            ]
        },
        {
            "cell_type": "markdown",
            "metadata": {},
            "source": [
                "The block below shows the few lines of code needed to run bootstrapping, unwrapping evaluate_with_conf_int. This shows how straightforward the approach is. The only somewhat complex step is inside the get_bootstrap_indices method for the case that involves conditions. \n",
                "\n",
                "You can use this as pseudo-code if, for example, you need to recode bootstrapping in some other language or compute a more involved metric that does not take only samples and labels as input."
            ]
        },
        {
            "cell_type": "code",
            "execution_count": 6,
            "metadata": {},
            "outputs": [
                {
                    "name": "stdout",
                    "output_type": "stream",
                    "text": [
                        "0.855 (0.7938131968651883, 0.9126023142471228)\n"
                    ]
                }
            ],
            "source": [
                "from confidence_intervals import get_bootstrap_indices, get_conf_int\n",
                "\n",
                "metric =  sklearn.metrics.accuracy_score\n",
                "metric_values = []\n",
                "num_samples = len(decisions)\n",
                "for nb in np.arange(num_bootstraps):\n",
                "    indices = get_bootstrap_indices(num_samples, conditions=conditions, random_state=nb)\n",
                "    metric_values.append(metric(labels[indices], decisions[indices]))\n",
                "\n",
                "print(metric(labels, decisions), get_conf_int(metric_values, alpha))\n",
                "\n",
                "\n"
            ]
        },
        {
            "cell_type": "markdown",
            "metadata": {},
            "source": [
                "Below is an example on how to create a bar plot for two systems, with and without using conditions when determining the bootstrap sets."
            ]
        },
        {
            "cell_type": "code",
            "execution_count": 7,
            "metadata": {},
            "outputs": [
                {
                    "data": {
                        "image/png": "[encoded data removed]",
                        "text/plain": [
                            "<Figure size 300x300 with 1 Axes>"
                        ]
                    },
                    "metadata": {},
                    "output_type": "display_data"
                }
            ],
            "source": [
                "from confidence_intervals.utils import barplot_with_ci\n",
                "metric =  sklearn.metrics.accuracy_score\n",
                "\n",
                "# The create_data method generates the same labels and conditions for all three cases below. \n",
                "# Only the decisions change, simulating three different systems.\n",
                "decisions = {}\n",
                "decisions['sys1'], labels, conditions = create_data(N0, N1, NC, scale=1.0)\n",
                "decisions['sys2'], labels, conditions = create_data(N0, N1, NC, scale=0.5)\n",
                "decisions['sys3'], labels, conditions = create_data(N0, N1, NC, scale=0.3)\n",
                "\n",
                "data = {}\n",
                "for sys, dec in decisions.items():\n",
                "   val_with_cond = evaluate_with_conf_int(dec, metric, labels, conditions, num_bootstraps=num_bootstraps, alpha=alpha)\n",
                "   val_no_cond   = evaluate_with_conf_int(dec, metric, labels, None,       num_bootstraps=num_bootstraps, alpha=alpha)\n",
                "   data[sys] = {'with cond': val_with_cond, 'without cond': val_no_cond}\n",
                "\n",
                "barplot_with_ci(data, figsize=(3,3))\n"
            ]
        },
        {
            "cell_type": "markdown",
            "metadata": {},
            "source": [
                "Finally, we show how to create a confidence interval for comparing the performance between two of the systems above. \n",
                "\n",
                "Note that, in this example, the confidence intervals for systems 2 and 3 above overlap almost completely. Yet, the confidence interval for the difference in metric does not contain 0, meaning that we can reject the hypothesis that the two systems perform equally well on this dataset. That is, if we were to draw new test datasets, system 3 would still perform better than system 2 for most of those datasets, though only marginally so."
            ]
        },
        {
            "cell_type": "code",
            "execution_count": 8,
            "metadata": {},
            "outputs": [
                {
                    "data": {
                        "text/plain": [
                            "(0.02750000000000008, (0.002737195937398332, 0.062345636819321044))"
                        ]
                    },
                    "execution_count": 8,
                    "metadata": {},
                    "output_type": "execute_result"
                }
            ],
            "source": [
                "from confidence_intervals import get_bootstrap_indices, get_conf_int\n",
                "\n",
                "base_metric = sklearn.metrics.accuracy_score\n",
                "\n",
                "def metric(labels, dec1, dec2):\n",
                "    return base_metric(labels, dec2) - base_metric(labels, dec1)\n",
                "\n",
                "evaluate_with_conf_int(decisions['sys2'], metric, labels, conditions, samples2=decisions['sys3'],\n",
                "                       num_bootstraps=num_bootstraps, alpha=alpha)\n"
            ]
        }
    ],
    "metadata": {
        "colab": {
            "collapsed_sections": [],
            "provenance": []
        },
        "kernelspec": {
            "display_name": "Python 3 (ipykernel)",
            "language": "python",
            "name": "python3"
        },
        "language_info": {
            "codemirror_mode": {
                "name": "ipython",
                "version": 3
            },
            "file_extension": ".py",
            "mimetype": "text/x-python",
            "name": "python",
            "nbconvert_exporter": "python",
            "pygments_lexer": "ipython3",
            "version": "3.9.13"
        }
    },
    "nbformat": 4,
    "nbformat_minor": 1
}
